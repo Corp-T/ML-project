{
 "cells": [
  {
   "cell_type": "code",
   "execution_count": 1,
   "id": "e836ee03",
   "metadata": {},
   "outputs": [],
   "source": [
    "from pythainlp import word_tokenize, Tokenizer\n",
    "from pythainlp.util.trie import Trie\n",
    "from pythainlp.util import normalize\n",
    "from pythainlp.corpus import thai_stopwords\n",
    "from pythainlp.corpus.common import thai_words\n",
    "import numpy as np\n",
    "import pandas as pd\n",
    "import re"
   ]
  },
  {
   "cell_type": "code",
   "execution_count": 2,
   "id": "a7464781",
   "metadata": {},
   "outputs": [],
   "source": [
    "stopwords = list(thai_stopwords())"
   ]
  },
  {
   "cell_type": "code",
   "execution_count": 3,
   "id": "a4e690c3",
   "metadata": {},
   "outputs": [],
   "source": [
    "import pickle"
   ]
  },
  {
   "cell_type": "code",
   "execution_count": 4,
   "id": "aa56e034",
   "metadata": {},
   "outputs": [
    {
     "data": {
      "text/html": [
       "<div>\n",
       "<style scoped>\n",
       "    .dataframe tbody tr th:only-of-type {\n",
       "        vertical-align: middle;\n",
       "    }\n",
       "\n",
       "    .dataframe tbody tr th {\n",
       "        vertical-align: top;\n",
       "    }\n",
       "\n",
       "    .dataframe thead th {\n",
       "        text-align: right;\n",
       "    }\n",
       "</style>\n",
       "<table border=\"1\" class=\"dataframe\">\n",
       "  <thead>\n",
       "    <tr style=\"text-align: right;\">\n",
       "      <th></th>\n",
       "      <th>text</th>\n",
       "      <th>sentiment</th>\n",
       "      <th>pos</th>\n",
       "      <th>neg</th>\n",
       "      <th>text_tokens</th>\n",
       "    </tr>\n",
       "  </thead>\n",
       "  <tbody>\n",
       "    <tr>\n",
       "      <th>0</th>\n",
       "      <td>เกลียด ชอบหลอกให้สั่งซื้อ ที่ไหนได้ไม่มีสิ้นค้า</td>\n",
       "      <td>neg</td>\n",
       "      <td>0</td>\n",
       "      <td>1</td>\n",
       "      <td>เกลียด ชอบ หลอก สั่งซื้อ ที่ไหนได้ ค้า</td>\n",
       "    </tr>\n",
       "    <tr>\n",
       "      <th>1</th>\n",
       "      <td>สินค้าด้อยคุณภาพ</td>\n",
       "      <td>neg</td>\n",
       "      <td>0</td>\n",
       "      <td>1</td>\n",
       "      <td>สินค้า ด้อย คุณภาพ</td>\n",
       "    </tr>\n",
       "    <tr>\n",
       "      <th>2</th>\n",
       "      <td>สินค้าหมดทำไมไม่แจ้งขึ้นว่าหมดอะ.กดใส่ตะกร้าไป...</td>\n",
       "      <td>neg</td>\n",
       "      <td>0</td>\n",
       "      <td>1</td>\n",
       "      <td>สินค้า แจ้ง อะ .กด ใส่ ตะกร้า . เซ็ง เรย</td>\n",
       "    </tr>\n",
       "    <tr>\n",
       "      <th>3</th>\n",
       "      <td>อย่าทำแบบนี้กับใครอีกนะค่ะแย่มากค่ะ</td>\n",
       "      <td>neg</td>\n",
       "      <td>0</td>\n",
       "      <td>1</td>\n",
       "      <td>อย่า ทำ แบบนี้ แย่มาก</td>\n",
       "    </tr>\n",
       "    <tr>\n",
       "      <th>4</th>\n",
       "      <td>คือเเบบผิดหวังมาก เเย่ที่สุดได้ของมาฝาเเตก เเต...</td>\n",
       "      <td>neg</td>\n",
       "      <td>0</td>\n",
       "      <td>1</td>\n",
       "      <td>ผิดหวัง แย่ ฝา แตก แตก แตก จบ แยก 😢</td>\n",
       "    </tr>\n",
       "    <tr>\n",
       "      <th>...</th>\n",
       "      <td>...</td>\n",
       "      <td>...</td>\n",
       "      <td>...</td>\n",
       "      <td>...</td>\n",
       "      <td>...</td>\n",
       "    </tr>\n",
       "    <tr>\n",
       "      <th>123</th>\n",
       "      <td>สินค้ามีตำหนิ แย่มากๆ ไม่ไหวๆเลย ถ้ามีตำหนิก็บ...</td>\n",
       "      <td>neg</td>\n",
       "      <td>0</td>\n",
       "      <td>1</td>\n",
       "      <td>สินค้า มีตำหนิ แย่มาก ไหว มีตำหนิ ทำใจ ซื้อ</td>\n",
       "    </tr>\n",
       "    <tr>\n",
       "      <th>124</th>\n",
       "      <td>เปราะบางมากความแข็งแรงน้อย มันง่ายต่อการแตกหัก</td>\n",
       "      <td>neg</td>\n",
       "      <td>0</td>\n",
       "      <td>1</td>\n",
       "      <td>เปราะบาง ความแข็งแรง แตกหัก</td>\n",
       "    </tr>\n",
       "    <tr>\n",
       "      <th>125</th>\n",
       "      <td>ขนส่งก็ช้าสินค้ามีตำหนิแพ็คสินค้าไม่ดีมีรอยบุบ</td>\n",
       "      <td>neg</td>\n",
       "      <td>0</td>\n",
       "      <td>1</td>\n",
       "      <td>ขนส่ง สินค้า มีตำหนิ แพ็ค สินค้า ดี รอย บุบ</td>\n",
       "    </tr>\n",
       "    <tr>\n",
       "      <th>126</th>\n",
       "      <td>สินค้าเหมือนของปลอม เนื่อครีมเหมือนซอง 10 บาท ...</td>\n",
       "      <td>neg</td>\n",
       "      <td>0</td>\n",
       "      <td>1</td>\n",
       "      <td>สินค้า เหมือน ของปลอม เนื่อ ครีม เหมือน ซอง 10...</td>\n",
       "    </tr>\n",
       "    <tr>\n",
       "      <th>127</th>\n",
       "      <td>รายการไม่ดี ที่จับไม่ดีและสั้น</td>\n",
       "      <td>neg</td>\n",
       "      <td>0</td>\n",
       "      <td>1</td>\n",
       "      <td>รายการ ดี ที่จับ ดี</td>\n",
       "    </tr>\n",
       "  </tbody>\n",
       "</table>\n",
       "<p>128 rows × 5 columns</p>\n",
       "</div>"
      ],
      "text/plain": [
       "                                                  text sentiment  pos  neg  \\\n",
       "0      เกลียด ชอบหลอกให้สั่งซื้อ ที่ไหนได้ไม่มีสิ้นค้า       neg    0    1   \n",
       "1                                     สินค้าด้อยคุณภาพ       neg    0    1   \n",
       "2    สินค้าหมดทำไมไม่แจ้งขึ้นว่าหมดอะ.กดใส่ตะกร้าไป...       neg    0    1   \n",
       "3                  อย่าทำแบบนี้กับใครอีกนะค่ะแย่มากค่ะ       neg    0    1   \n",
       "4    คือเเบบผิดหวังมาก เเย่ที่สุดได้ของมาฝาเเตก เเต...       neg    0    1   \n",
       "..                                                 ...       ...  ...  ...   \n",
       "123  สินค้ามีตำหนิ แย่มากๆ ไม่ไหวๆเลย ถ้ามีตำหนิก็บ...       neg    0    1   \n",
       "124     เปราะบางมากความแข็งแรงน้อย มันง่ายต่อการแตกหัก       neg    0    1   \n",
       "125     ขนส่งก็ช้าสินค้ามีตำหนิแพ็คสินค้าไม่ดีมีรอยบุบ       neg    0    1   \n",
       "126  สินค้าเหมือนของปลอม เนื่อครีมเหมือนซอง 10 บาท ...       neg    0    1   \n",
       "127                     รายการไม่ดี ที่จับไม่ดีและสั้น       neg    0    1   \n",
       "\n",
       "                                           text_tokens  \n",
       "0               เกลียด ชอบ หลอก สั่งซื้อ ที่ไหนได้ ค้า  \n",
       "1                                   สินค้า ด้อย คุณภาพ  \n",
       "2             สินค้า แจ้ง อะ .กด ใส่ ตะกร้า . เซ็ง เรย  \n",
       "3                                อย่า ทำ แบบนี้ แย่มาก  \n",
       "4                  ผิดหวัง แย่ ฝา แตก แตก แตก จบ แยก 😢  \n",
       "..                                                 ...  \n",
       "123        สินค้า มีตำหนิ แย่มาก ไหว มีตำหนิ ทำใจ ซื้อ  \n",
       "124                        เปราะบาง ความแข็งแรง แตกหัก  \n",
       "125        ขนส่ง สินค้า มีตำหนิ แพ็ค สินค้า ดี รอย บุบ  \n",
       "126  สินค้า เหมือน ของปลอม เนื่อ ครีม เหมือน ซอง 10...  \n",
       "127                                รายการ ดี ที่จับ ดี  \n",
       "\n",
       "[128 rows x 5 columns]"
      ]
     },
     "execution_count": 4,
     "metadata": {},
     "output_type": "execute_result"
    }
   ],
   "source": [
    "df = pickle.load(open(\"dataframe.pkl\", \"rb\"))\n",
    "df"
   ]
  },
  {
   "cell_type": "code",
   "execution_count": 5,
   "id": "f81c106c",
   "metadata": {},
   "outputs": [],
   "source": [
    "def text_preprocess(text):\n",
    "    text = normalize(text)\n",
    "    text = re.sub('\\s+', ' ', text)\n",
    "    regex = re.compile(r\"[^\\u0E00-\\u0E7Fa-zA-Z' ]|^'|'$|''\")\n",
    "    text = regex.sub('', text)\n",
    "    new_words = {\"ไม่มี\", \"ไม่ดี\"}\n",
    "    custom_words_list = set(thai_words())\n",
    "    custom_words_list.update(new_words)\n",
    "    trie = Trie(custom_words_list)\n",
    "\n",
    "    custom_tokenizer = Tokenizer(custom_dict=trie, engine='newmm')\n",
    "    output = custom_tokenizer.word_tokenize(text)\n",
    "\n",
    "    symbols = {\" \", \"  \"}\n",
    "    last_value = [i for i in output if  i not in symbols and len(i) > 2]\n",
    "\n",
    "    last_list = \" \".join(i for i in last_value if i not in stopwords)\n",
    "    return last_list"
   ]
  },
  {
   "cell_type": "code",
   "execution_count": 6,
   "id": "fd463564",
   "metadata": {},
   "outputs": [],
   "source": [
    "# run this code if you havent tokenized yet or wanna use other dataframe. dont forget to match ur dataframe cols and code correctly\n",
    "# df['text_tokens'] = df['text'].apply(text_preprocess)"
   ]
  },
  {
   "cell_type": "code",
   "execution_count": 7,
   "id": "013f5383",
   "metadata": {},
   "outputs": [],
   "source": [
    "from sklearn.model_selection import train_test_split\n",
    "\n",
    "x = df['text_tokens']\n",
    "y = df['sentiment']\n",
    "x_train, x_test, y_train, y_test = train_test_split(x, y, test_size = 0.3, random_state = 101)"
   ]
  },
  {
   "cell_type": "code",
   "execution_count": 8,
   "id": "9be4b48f",
   "metadata": {},
   "outputs": [],
   "source": [
    "from sklearn.feature_extraction.text import CountVectorizer\n",
    "\n",
    "cvec = CountVectorizer(analyzer=lambda x:x.split(' ')) #analyse by space that we tokenized"
   ]
  },
  {
   "cell_type": "code",
   "execution_count": 9,
   "id": "43eb3d2e",
   "metadata": {},
   "outputs": [],
   "source": [
    "x = cvec.fit_transform(x_train)"
   ]
  },
  {
   "cell_type": "code",
   "execution_count": 10,
   "id": "5489a514",
   "metadata": {},
   "outputs": [
    {
     "data": {
      "text/plain": [
       "<89x264 sparse matrix of type '<class 'numpy.int64'>'\n",
       "\twith 501 stored elements in Compressed Sparse Row format>"
      ]
     },
     "execution_count": 10,
     "metadata": {},
     "output_type": "execute_result"
    }
   ],
   "source": [
    "cvec.transform(x_train)"
   ]
  },
  {
   "cell_type": "code",
   "execution_count": 11,
   "id": "b7bd7cad",
   "metadata": {},
   "outputs": [],
   "source": [
    "# cvec.vocabulary_"
   ]
  },
  {
   "cell_type": "code",
   "execution_count": 12,
   "id": "04e0a1e4",
   "metadata": {},
   "outputs": [],
   "source": [
    "from sklearn.linear_model import LogisticRegression"
   ]
  },
  {
   "cell_type": "code",
   "execution_count": 13,
   "id": "00c80357",
   "metadata": {},
   "outputs": [
    {
     "data": {
      "text/html": [
       "<style>#sk-container-id-1 {color: black;background-color: white;}#sk-container-id-1 pre{padding: 0;}#sk-container-id-1 div.sk-toggleable {background-color: white;}#sk-container-id-1 label.sk-toggleable__label {cursor: pointer;display: block;width: 100%;margin-bottom: 0;padding: 0.3em;box-sizing: border-box;text-align: center;}#sk-container-id-1 label.sk-toggleable__label-arrow:before {content: \"▸\";float: left;margin-right: 0.25em;color: #696969;}#sk-container-id-1 label.sk-toggleable__label-arrow:hover:before {color: black;}#sk-container-id-1 div.sk-estimator:hover label.sk-toggleable__label-arrow:before {color: black;}#sk-container-id-1 div.sk-toggleable__content {max-height: 0;max-width: 0;overflow: hidden;text-align: left;background-color: #f0f8ff;}#sk-container-id-1 div.sk-toggleable__content pre {margin: 0.2em;color: black;border-radius: 0.25em;background-color: #f0f8ff;}#sk-container-id-1 input.sk-toggleable__control:checked~div.sk-toggleable__content {max-height: 200px;max-width: 100%;overflow: auto;}#sk-container-id-1 input.sk-toggleable__control:checked~label.sk-toggleable__label-arrow:before {content: \"▾\";}#sk-container-id-1 div.sk-estimator input.sk-toggleable__control:checked~label.sk-toggleable__label {background-color: #d4ebff;}#sk-container-id-1 div.sk-label input.sk-toggleable__control:checked~label.sk-toggleable__label {background-color: #d4ebff;}#sk-container-id-1 input.sk-hidden--visually {border: 0;clip: rect(1px 1px 1px 1px);clip: rect(1px, 1px, 1px, 1px);height: 1px;margin: -1px;overflow: hidden;padding: 0;position: absolute;width: 1px;}#sk-container-id-1 div.sk-estimator {font-family: monospace;background-color: #f0f8ff;border: 1px dotted black;border-radius: 0.25em;box-sizing: border-box;margin-bottom: 0.5em;}#sk-container-id-1 div.sk-estimator:hover {background-color: #d4ebff;}#sk-container-id-1 div.sk-parallel-item::after {content: \"\";width: 100%;border-bottom: 1px solid gray;flex-grow: 1;}#sk-container-id-1 div.sk-label:hover label.sk-toggleable__label {background-color: #d4ebff;}#sk-container-id-1 div.sk-serial::before {content: \"\";position: absolute;border-left: 1px solid gray;box-sizing: border-box;top: 0;bottom: 0;left: 50%;z-index: 0;}#sk-container-id-1 div.sk-serial {display: flex;flex-direction: column;align-items: center;background-color: white;padding-right: 0.2em;padding-left: 0.2em;position: relative;}#sk-container-id-1 div.sk-item {position: relative;z-index: 1;}#sk-container-id-1 div.sk-parallel {display: flex;align-items: stretch;justify-content: center;background-color: white;position: relative;}#sk-container-id-1 div.sk-item::before, #sk-container-id-1 div.sk-parallel-item::before {content: \"\";position: absolute;border-left: 1px solid gray;box-sizing: border-box;top: 0;bottom: 0;left: 50%;z-index: -1;}#sk-container-id-1 div.sk-parallel-item {display: flex;flex-direction: column;z-index: 1;position: relative;background-color: white;}#sk-container-id-1 div.sk-parallel-item:first-child::after {align-self: flex-end;width: 50%;}#sk-container-id-1 div.sk-parallel-item:last-child::after {align-self: flex-start;width: 50%;}#sk-container-id-1 div.sk-parallel-item:only-child::after {width: 0;}#sk-container-id-1 div.sk-dashed-wrapped {border: 1px dashed gray;margin: 0 0.4em 0.5em 0.4em;box-sizing: border-box;padding-bottom: 0.4em;background-color: white;}#sk-container-id-1 div.sk-label label {font-family: monospace;font-weight: bold;display: inline-block;line-height: 1.2em;}#sk-container-id-1 div.sk-label-container {text-align: center;}#sk-container-id-1 div.sk-container {/* jupyter's `normalize.less` sets `[hidden] { display: none; }` but bootstrap.min.css set `[hidden] { display: none !important; }` so we also need the `!important` here to be able to override the default hidden behavior on the sphinx rendered scikit-learn.org. See: https://github.com/scikit-learn/scikit-learn/issues/21755 */display: inline-block !important;position: relative;}#sk-container-id-1 div.sk-text-repr-fallback {display: none;}</style><div id=\"sk-container-id-1\" class=\"sk-top-container\"><div class=\"sk-text-repr-fallback\"><pre>LogisticRegression()</pre><b>In a Jupyter environment, please rerun this cell to show the HTML representation or trust the notebook. <br />On GitHub, the HTML representation is unable to render, please try loading this page with nbviewer.org.</b></div><div class=\"sk-container\" hidden><div class=\"sk-item\"><div class=\"sk-estimator sk-toggleable\"><input class=\"sk-toggleable__control sk-hidden--visually\" id=\"sk-estimator-id-1\" type=\"checkbox\" checked><label for=\"sk-estimator-id-1\" class=\"sk-toggleable__label sk-toggleable__label-arrow\">LogisticRegression</label><div class=\"sk-toggleable__content\"><pre>LogisticRegression()</pre></div></div></div></div></div>"
      ],
      "text/plain": [
       "LogisticRegression()"
      ]
     },
     "execution_count": 13,
     "metadata": {},
     "output_type": "execute_result"
    }
   ],
   "source": [
    "model = LogisticRegression()\n",
    "model.fit(x, y_train)"
   ]
  },
  {
   "cell_type": "code",
   "execution_count": 14,
   "id": "0bf1e0f5",
   "metadata": {},
   "outputs": [
    {
     "data": {
      "text/plain": [
       "0.7948717948717948"
      ]
     },
     "execution_count": 14,
     "metadata": {},
     "output_type": "execute_result"
    }
   ],
   "source": [
    "test_bow = cvec.transform(x_test)\n",
    "model.score(test_bow, y_test)"
   ]
  },
  {
   "cell_type": "code",
   "execution_count": 15,
   "id": "f6fd0be8",
   "metadata": {},
   "outputs": [],
   "source": [
    "pred = model.predict(test_bow)"
   ]
  },
  {
   "cell_type": "code",
   "execution_count": 16,
   "id": "a1cdd625",
   "metadata": {},
   "outputs": [
    {
     "name": "stdout",
     "output_type": "stream",
     "text": [
      "              precision    recall  f1-score   support\n",
      "\n",
      "         neg       0.91      0.78      0.84        27\n",
      "         pos       0.62      0.83      0.71        12\n",
      "\n",
      "    accuracy                           0.79        39\n",
      "   macro avg       0.77      0.81      0.78        39\n",
      "weighted avg       0.82      0.79      0.80        39\n",
      "\n"
     ]
    }
   ],
   "source": [
    "from sklearn.metrics import classification_report\n",
    "\n",
    "print(classification_report(pred, y_test))"
   ]
  },
  {
   "cell_type": "code",
   "execution_count": 17,
   "id": "cebaa16c",
   "metadata": {},
   "outputs": [],
   "source": [
    "def pred_ana(my_text):\n",
    "    my_tokens = text_preprocess(my_text)\n",
    "    my_bow = cvec.transform(pd.Series([my_tokens]))\n",
    "    my_predictions = model.predict(my_bow)\n",
    "    my_proba = model.predict_proba(my_bow)\n",
    "    print(my_proba)\n",
    "    print(f'Sentiment : {\" \".join(x for x in my_predictions)}')"
   ]
  },
  {
   "cell_type": "code",
   "execution_count": 18,
   "id": "5f9bfc94",
   "metadata": {},
   "outputs": [
    {
     "name": "stdout",
     "output_type": "stream",
     "text": [
      "[[0.85773402 0.14226598]]\n",
      "Sentiment : neg\n"
     ]
    }
   ],
   "source": [
    "pred_ana('วันนี้อากาศแย่มาก ฟ้าฝนไม่เป็นใจ เมื่อไหร่จะถึงวันเสาร์สักที')"
   ]
  },
  {
   "cell_type": "code",
   "execution_count": null,
   "id": "1ea8b54c",
   "metadata": {},
   "outputs": [],
   "source": []
  }
 ],
 "metadata": {
  "kernelspec": {
   "display_name": "Python 3 (ipykernel)",
   "language": "python",
   "name": "python3"
  },
  "language_info": {
   "codemirror_mode": {
    "name": "ipython",
    "version": 3
   },
   "file_extension": ".py",
   "mimetype": "text/x-python",
   "name": "python",
   "nbconvert_exporter": "python",
   "pygments_lexer": "ipython3",
   "version": "3.10.4"
  }
 },
 "nbformat": 4,
 "nbformat_minor": 5
}
